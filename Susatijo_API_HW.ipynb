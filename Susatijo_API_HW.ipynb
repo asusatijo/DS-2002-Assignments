{
  "nbformat": 4,
  "nbformat_minor": 0,
  "metadata": {
    "colab": {
      "provenance": [],
      "authorship_tag": "ABX9TyM7/mjELyXonMjLFBUzHBov",
      "include_colab_link": true
    },
    "kernelspec": {
      "name": "python3",
      "display_name": "Python 3"
    },
    "language_info": {
      "name": "python"
    }
  },
  "cells": [
    {
      "cell_type": "markdown",
      "metadata": {
        "id": "view-in-github",
        "colab_type": "text"
      },
      "source": [
        "<a href=\"https://colab.research.google.com/github/asusatijo/DS-2002-Assignments/blob/main/Susatijo_API_HW.ipynb\" target=\"_parent\"><img src=\"https://colab.research.google.com/assets/colab-badge.svg\" alt=\"Open In Colab\"/></a>"
      ]
    },
    {
      "cell_type": "code",
      "source": [
        "import requests\n",
        "import pandas as pd\n",
        "\n",
        "def get_stock_info(ticker):\n",
        "    url = f'https://yfapi.net/v6/finance/quote?symbols={ticker}'\n",
        "    headers = {\n",
        "        'x-api-key': 'eIwAlkz8ul5MMkwtD3bcV6OtzgA1vA7WtHWmJ3Fh'\n",
        "    }\n",
        "    response = requests.get(url, headers=headers)\n",
        "\n",
        "    if response.status_code == 200:\n",
        "        data = response.json()\n",
        "        if 'quoteResponse' in data and 'result' in data['quoteResponse'] and len(data['quoteResponse']['result']) > 0:\n",
        "            return data['quoteResponse']['result'][0]\n",
        "        else:\n",
        "            raise Exception(\"No data found for the ticker symbol.\")\n",
        "    else:\n",
        "        print(\"Response Content:\", response.text)  # Debug line\n",
        "        raise Exception(f\"Error fetching data for {ticker}: {response.status_code}\")\n",
        "\n",
        "def get_trending_stocks():\n",
        "    url = 'https://yfapi.net/v1/finance/trending/US'\n",
        "    headers = {\n",
        "        'x-api-key': 'eIwAlkz8ul5MMkwtD3bcV6OtzgA1vA7WtHWmJ3Fh'\n",
        "    }\n",
        "    response = requests.get(url, headers=headers)\n",
        "\n",
        "    if response.status_code == 200:\n",
        "        data = response.json()\n",
        "        return [stock['symbol'] for stock in data['finance']['result'][0]['quotes'][:5]]\n",
        "    else:\n",
        "        print(\"Response Content:\", response.text)  # Debug line\n",
        "        raise Exception(f\"Error fetching trending stocks: {response.status_code}\")\n",
        "\n",
        "# Main function\n",
        "def main():\n",
        "\n",
        "    ticker = input(\"Enter the stock ticker symbol: \").upper()\n",
        "\n",
        "    try:\n",
        "        # Fetch stock info\n",
        "        stock_data = get_stock_info(ticker)\n",
        "\n",
        "        # Prepare stock information\n",
        "        stock_info = {\n",
        "            'Ticker Name': stock_data['symbol'],\n",
        "            'Full Name': stock_data['longName'],\n",
        "            'Current Market Price': stock_data['regularMarketPrice'],\n",
        "            'Target Mean Price': stock_data.get('targetMeanPrice', 'N/A'),\n",
        "            '52 Week High': stock_data['fiftyTwoWeekHigh'],\n",
        "            '52 Week Low': stock_data['fiftyTwoWeekLow']\n",
        "        }\n",
        "\n",
        "        print(\"\\nStock Information:\")\n",
        "        for key, value in stock_info.items():\n",
        "            print(f\"{key}: {value}\")\n",
        "\n",
        "        # Fetch trending stocks\n",
        "        trending_stocks = get_trending_stocks()\n",
        "\n",
        "        print(\"\\nTrending Stocks:\")\n",
        "        for stock in trending_stocks:\n",
        "            print(stock)\n",
        "\n",
        "        # Create a DataFrame\n",
        "        df = pd.DataFrame([stock_info])\n",
        "        df['Trending Stocks'] = [', '.join(trending_stocks)]\n",
        "\n",
        "        # Save to CSV\n",
        "        df.to_csv('stock_info.csv', index=False)\n",
        "        print(\"\\nStock information saved to 'stock_info.csv'.\")\n",
        "\n",
        "    except Exception as e:\n",
        "        print(f\"An error occurred: {e}\")\n",
        "\n",
        "if __name__ == \"__main__\":\n",
        "    main()\n"
      ],
      "metadata": {
        "colab": {
          "base_uri": "https://localhost:8080/"
        },
        "id": "RnVQ0NWHhnhK",
        "outputId": "b3fcaa20-dec6-4668-fc01-300b57dc4569"
      },
      "execution_count": 19,
      "outputs": [
        {
          "output_type": "stream",
          "name": "stdout",
          "text": [
            "Enter the stock ticker symbol: aapl\n",
            "\n",
            "Stock Information:\n",
            "Ticker Name: AAPL\n",
            "Full Name: Apple Inc.\n",
            "Current Market Price: 227.79\n",
            "Target Mean Price: N/A\n",
            "52 Week High: 237.23\n",
            "52 Week Low: 164.08\n",
            "\n",
            "Trending Stocks:\n",
            "BTC-USD\n",
            "SCHD\n",
            "XRP-USD\n",
            "DOGE-USD\n",
            "RACE\n",
            "\n",
            "Stock information saved to 'stock_info.csv'.\n"
          ]
        }
      ]
    },
    {
      "cell_type": "code",
      "source": [],
      "metadata": {
        "id": "wnVlxmPloSQg"
      },
      "execution_count": null,
      "outputs": []
    }
  ]
}
